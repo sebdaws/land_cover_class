{
 "cells": [
  {
   "cell_type": "code",
   "execution_count": null,
   "metadata": {},
   "outputs": [],
   "source": [
    "import pandas as pd\n",
    "from sentence_transformers import SentenceTransformer, util\n",
    "\n",
    "import sys\n",
    "sys.path.append('../')\n",
    "\n",
    "from utils.results import plot_class_distribution"
   ]
  },
  {
   "cell_type": "code",
   "execution_count": null,
   "metadata": {},
   "outputs": [],
   "source": [
    "with open('../data/land_cover_representation/metadata.csv') as f:\n",
    "    metadata = pd.read_csv(f)\n",
    "\n",
    "classes = pd.unique(metadata['land_cover'])\n",
    "class_distribution = pd.Series(metadata['land_cover']).value_counts()\n",
    "classes_dict = pd.Series.to_dict(class_distribution)\n",
    "\n",
    "class_doc = dict(zip(pd.unique(metadata['y']), pd.unique(metadata['land_cover'])))\n",
    "class_doc = dict(sorted(class_doc.items()))\n",
    "display(class_doc)\n",
    "\n",
    "class_count = {}\n",
    "for i in range(0, len(class_doc)):\n",
    "    class_count[i] = (class_doc[i], classes_dict[class_doc[i]])\n",
    "\n",
    "count_df = pd.DataFrame.from_dict(class_count, orient='index', columns=['land_cover', 'count'])\n",
    "\n",
    "plot_class_distribution(count_df, title='Unbalanced Class Distribution')"
   ]
  },
  {
   "cell_type": "code",
   "execution_count": null,
   "metadata": {},
   "outputs": [],
   "source": [
    "with open('../data/land_cover_representation/metadata_balanced.csv') as f:\n",
    "    metadata2 = pd.read_csv(f)\n",
    "\n",
    "classes2 = pd.unique(metadata2['land_cover'])\n",
    "class_distribution2 = pd.Series(metadata2['land_cover']).value_counts()\n",
    "classes_dict2 = pd.Series.to_dict(class_distribution2)\n",
    "\n",
    "class_doc2 = dict(zip(pd.unique(metadata2['y']), pd.unique(metadata2['land_cover'])))\n",
    "class_doc2 = dict(sorted(class_doc2.items()))\n",
    "\n",
    "class_count2 = {}\n",
    "for i in range(0, len(class_doc2)):\n",
    "    class_count2[i] = (class_doc2[i], classes_dict2[class_doc2[i]])\n",
    "\n",
    "count_df2 = pd.DataFrame.from_dict(class_count2, orient='index', columns=['land_cover', 'count'])\n",
    "\n",
    "plot_class_distribution(count_df2, title='Modified Class Distribution')"
   ]
  },
  {
   "cell_type": "code",
   "execution_count": null,
   "metadata": {},
   "outputs": [],
   "source": [
    "def group_classes_by_semantics(low_counts_df, high_count_classes, threshold=0.5):\n",
    "    \"\"\"\n",
    "    Groups low-count classes into semantic groups based on similarity to high-count classes.\n",
    "    \"\"\"\n",
    "    # Load a pre-trained model for semantic similarity (e.g., SentenceTransformer)\n",
    "    model = SentenceTransformer('all-MiniLM-L6-v2')\n",
    "\n",
    "    # Generate embeddings for high-count class names\n",
    "    high_count_embeddings = model.encode(high_count_classes, convert_to_tensor=True)\n",
    "\n",
    "    # Initialize a dictionary for low-count to high-count mappings\n",
    "    low_to_high_mapping = {}\n",
    "\n",
    "    for low_class in low_counts_df['land_cover']:\n",
    "        # Generate embedding for the low-count class\n",
    "        low_embedding = model.encode(low_class, convert_to_tensor=True)\n",
    "\n",
    "        # Calculate cosine similarity with high-count classes\n",
    "        similarities = util.cos_sim(low_embedding, high_count_embeddings).squeeze(0)\n",
    "        \n",
    "        # Find the high-count class with the highest similarity above the threshold\n",
    "        max_sim_idx = similarities.argmax().item()\n",
    "        if similarities[max_sim_idx] >= threshold:\n",
    "            low_to_high_mapping[low_class] = high_count_classes[max_sim_idx]\n",
    "        else:\n",
    "            # Map to 'Other' if no high similarity is found\n",
    "            low_to_high_mapping[low_class] = 'Other'\n",
    "\n",
    "    return low_to_high_mapping\n",
    "\n",
    "min_count = 2000\n",
    "similarity_threshold = 0.5\n",
    "\n",
    "class_distribution = pd.Series(metadata['land_cover']).value_counts()\n",
    "classes_dict = pd.Series.to_dict(class_distribution)\n",
    "\n",
    "class_doc = dict(zip(pd.unique(metadata['y']), pd.unique(metadata['land_cover'])))\n",
    "class_doc = dict(sorted(class_doc.items()))\n",
    "\n",
    "class_count = {}\n",
    "for i in range(0, 61):\n",
    "    class_count[i] = (class_doc[i], classes_dict[class_doc[i]])\n",
    "\n",
    "count_df = pd.DataFrame.from_dict(class_count, orient='index', columns=['land_cover', 'count'])\n",
    "\n",
    "low_counts_df = count_df[count_df['count'] < min_count]\n",
    "high_count_df = count_df[count_df['count'] >= min_count]\n",
    "high_count_classes = high_count_df['land_cover'].tolist()\n",
    "\n",
    "low_to_high_mapping = group_classes_by_semantics(low_counts_df, high_count_classes, threshold=similarity_threshold)\n",
    "\n",
    "display(low_to_high_mapping)"
   ]
  },
  {
   "cell_type": "code",
   "execution_count": null,
   "metadata": {},
   "outputs": [],
   "source": []
  }
 ],
 "metadata": {
  "kernelspec": {
   "display_name": "dsml_env",
   "language": "python",
   "name": "python3"
  },
  "language_info": {
   "codemirror_mode": {
    "name": "ipython",
    "version": 3
   },
   "file_extension": ".py",
   "mimetype": "text/x-python",
   "name": "python",
   "nbconvert_exporter": "python",
   "pygments_lexer": "ipython3",
   "version": "3.9.7"
  }
 },
 "nbformat": 4,
 "nbformat_minor": 2
}
