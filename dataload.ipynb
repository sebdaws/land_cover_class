{
 "cells": [
  {
   "cell_type": "code",
   "execution_count": 1,
   "metadata": {},
   "outputs": [],
   "source": [
    "from torch.utils.data import Dataset\n",
    "from PIL import Image\n",
    "import os\n",
    "import pandas as pd"
   ]
  },
  {
   "cell_type": "code",
   "execution_count": 5,
   "metadata": {},
   "outputs": [
    {
     "name": "stdout",
     "output_type": "stream",
     "text": [
      "803\n"
     ]
    }
   ],
   "source": [
    "# Metadata file provided is modified to split the train set as valid and test sets are provided without labels.\n",
    "# Check if 'split_file.csv' exists, which would signal this has already been done\n",
    "\n",
    "if os.path.isfile('split_file.csv') is False:\n",
    "    with open('data/archive/metadata.csv') as f:\n",
    "        metadata = pd.read_csv(f)\n",
    "    metadata = metadata[metadata['split'] == 'train']\n",
    "\n",
    "    # Shuffle the rows\n",
    "    metadata = metadata.sample(frac=1).reset_index(drop=True)\n",
    "\n",
    "print(len(metadata))"
   ]
  },
  {
   "cell_type": "code",
   "execution_count": 2,
   "metadata": {},
   "outputs": [],
   "source": [
    "class LandDataset(Dataset):\n",
    "    def __init__(self, root, splitfile, transform=None):\n",
    "        self.transform = transform\n",
    "\n",
    "        with open(os.path.join(root, 'metadata.csv')) as f:\n",
    "            metadata = pd.read_csv(f)\n",
    "        metadata = metadata[metadata['split'] == 'train']\n",
    "\n",
    "        self.images = []\n",
    "        self.masks = []\n",
    "        for _, row in metadata.iterrows():\n",
    "            img_path = os.path.join(root, row['sat_image_path'])\n",
    "            mask_path = os.path.join(root, row['mask_path'])\n",
    "            if os.path.isfile(img_path) and os.path.isfile(mask_path):\n",
    "                self.images.append(img_path)\n",
    "                self.masks.append(mask_path)\n",
    "    \n",
    "    def __len__(self):\n",
    "        return len(self.images)\n",
    "    \n",
    "    def __getitem__(self, idx):\n",
    "        img_name = self.images[idx]\n",
    "        mask_name = self.masks[idx]\n",
    "\n",
    "        image = Image.open(img_name)\n",
    "        mask = Image.open(mask_name)\n",
    "\n",
    "        if self.transform:\n",
    "            image = self.transform(image)\n",
    "            mask = self.transform(mask)\n",
    "    \n",
    "        return image, mask\n"
   ]
  },
  {
   "cell_type": "code",
   "execution_count": 3,
   "metadata": {},
   "outputs": [],
   "source": [
    "import torchvision.transforms as T\n",
    "\n",
    "transform = T.Compose([\n",
    "    T.Resize((512, 512)),\n",
    "    T.ToTensor()\n",
    "])\n",
    "\n",
    "dataset = LandDataset('data/archive', transform=transform)\n",
    "\n",
    "split_file_path = 'data/archive/data_split.csv'\n",
    "if os.path.isfile(split_file_path):\n",
    "    with open(split_file_path) as f:\n",
    "        split_file = pd.read_csv(f)\n",
    "    "
   ]
  },
  {
   "cell_type": "code",
   "execution_count": 1,
   "metadata": {},
   "outputs": [],
   "source": [
    "import torchvision.transforms as T\n",
    "import torch\n",
    "\n",
    "class ToFloatTensor(object):\n",
    "    \"\"\"\n",
    "    Converts numpy arrays to float Variables in Pytorch.\n",
    "    \"\"\"\n",
    "    def __call__(self, tile):\n",
    "        tile = torch.from_numpy(tile).float()\n",
    "        return tile\n",
    "\n",
    "def cdl_to_binary(cdl):\n",
    "    return (((cdl <= 60) | (cdl >= 196)) | ((cdl >= 66) & (cdl <= 77)))\n",
    "\n",
    "transf = T.Compose([\n",
    "    ToFloatTensor()\n",
    "])"
   ]
  },
  {
   "cell_type": "code",
   "execution_count": 2,
   "metadata": {},
   "outputs": [
    {
     "name": "stdout",
     "output_type": "stream",
     "text": [
      "(18, 50, 50)\n",
      "(19, 50, 50)\n",
      "(1, 50, 50)\n",
      "torch.Size([19, 50, 50])\n"
     ]
    }
   ],
   "source": [
    "import numpy as np\n",
    "tile = np.load('data/weakly_supervised_cropland/images/patch0.npy')\n",
    "tile = np.nan_to_num(tile)\n",
    "tile = np.moveaxis(tile, -1, 0)\n",
    "print(tile.shape)\n",
    "\n",
    "mask = np.load('data/weakly_supervised_cropland/single_pixel_masks/mask_patch0.npy')\n",
    "mask = np.expand_dims(mask, axis=0)\n",
    "tile = np.concatenate([tile, mask], axis=0)\n",
    "print(tile.shape)\n",
    "print(mask.shape)\n",
    "\n",
    "tile = transf(tile)\n",
    "print(tile.shape)\n"
   ]
  },
  {
   "cell_type": "code",
   "execution_count": 3,
   "metadata": {},
   "outputs": [
    {
     "name": "stdout",
     "output_type": "stream",
     "text": [
      "torch.Size([7, 50, 50])\n"
     ]
    }
   ],
   "source": [
    "features = tile[:7,:,:]\n",
    "print(features.shape)\n",
    "\n",
    "label = tile[-2,:,:] * 10000\n",
    "label = cdl_to_binary(label)\n",
    "label = label.float()\n",
    "\n",
    "mask = tile[-1,:,:]\n",
    "mask = mask.byte()"
   ]
  },
  {
   "cell_type": "code",
   "execution_count": 4,
   "metadata": {},
   "outputs": [
    {
     "name": "stdout",
     "output_type": "stream",
     "text": [
      "torch.Size([7, 50, 50])\n"
     ]
    }
   ],
   "source": [
    "print(features.shape)"
   ]
  },
  {
   "cell_type": "code",
   "execution_count": 1,
   "metadata": {},
   "outputs": [],
   "source": [
    "import numpy as np\n",
    "tile = np.load('data/land_cover_representation/tiles/0anchor.npy')"
   ]
  },
  {
   "cell_type": "code",
   "execution_count": 3,
   "metadata": {},
   "outputs": [
    {
     "data": {
      "text/plain": [
       "(100, 100, 5)"
      ]
     },
     "execution_count": 3,
     "metadata": {},
     "output_type": "execute_result"
    }
   ],
   "source": [
    "tile.shape"
   ]
  },
  {
   "cell_type": "code",
   "execution_count": 11,
   "metadata": {},
   "outputs": [
    {
     "data": {
      "text/plain": [
       "array([[61, 61, 61, ..., 61, 61, 61],\n",
       "       [61, 61, 61, ..., 61, 61, 61],\n",
       "       [61, 61, 61, ..., 61, 61, 61],\n",
       "       ...,\n",
       "       [69, 69, 69, ..., 69, 69, 69],\n",
       "       [69, 69, 69, ..., 69, 69, 69],\n",
       "       [69, 69, 69, ..., 69, 69, 69]], dtype=uint8)"
      ]
     },
     "execution_count": 11,
     "metadata": {},
     "output_type": "execute_result"
    }
   ],
   "source": [
    "tile[:, :, 4]"
   ]
  },
  {
   "cell_type": "code",
   "execution_count": null,
   "metadata": {},
   "outputs": [],
   "source": []
  }
 ],
 "metadata": {
  "kernelspec": {
   "display_name": "dsml_env",
   "language": "python",
   "name": "python3"
  },
  "language_info": {
   "codemirror_mode": {
    "name": "ipython",
    "version": 3
   },
   "file_extension": ".py",
   "mimetype": "text/x-python",
   "name": "python",
   "nbconvert_exporter": "python",
   "pygments_lexer": "ipython3",
   "version": "3.9.7"
  }
 },
 "nbformat": 4,
 "nbformat_minor": 2
}
